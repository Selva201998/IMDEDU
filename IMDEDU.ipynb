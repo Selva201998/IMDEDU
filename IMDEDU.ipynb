{
 "cells": [
  {
   "cell_type": "markdown",
   "id": "36ae45fb-9ed9-410b-8c87-fea01bc6fddd",
   "metadata": {},
   "source": [
    "# Step 1: Install Libraries"
   ]
  },
  {
   "cell_type": "code",
   "execution_count": null,
   "id": "47c94c78-0634-4a34-9fb7-fb0ba71494e1",
   "metadata": {},
   "outputs": [],
   "source": [
    "!pip install opencv-python-headless numpy pillow imagehash scikit-learn\n"
   ]
  },
  {
   "cell_type": "code",
   "execution_count": null,
   "id": "849dadbd-9225-4e69-8954-1261c67c15c3",
   "metadata": {},
   "outputs": [],
   "source": [
    "# Install required libraries if not installed\n",
    "# !pip install opencv-python-headless numpy pillow imagehash scikit-learn\n",
    "\n",
    "import cv2\n",
    "import numpy as np\n",
    "from PIL import Image\n",
    "import imagehash\n",
    "from sklearn.cluster import KMeans\n",
    "import hashlib\n"
   ]
  },
  {
   "cell_type": "markdown",
   "id": "809b8ff1-4cfb-401a-bc08-663324f52e87",
   "metadata": {},
   "source": [
    "# Step 2: Load and Display Images"
   ]
  },
  {
   "cell_type": "code",
   "execution_count": null,
   "id": "b523fd8e-13eb-46ef-ad31-700fb3398d5d",
   "metadata": {},
   "outputs": [],
   "source": [
    "# Import necessary modules\n",
    "import os\n",
    "from PIL import Image\n",
    "import pandas as pd  # For table display\n",
    "from IPython.display import display\n",
    "\n",
    "# Function to load images from a directory\n",
    "def load_images_from_folder(folder_path):\n",
    "    images = []\n",
    "    filenames = []  # Initialize filenames list\n",
    "    for filename in os.listdir(folder_path):\n",
    "        img_path = os.path.join(folder_path, filename)\n",
    "        img = Image.open(img_path).convert('RGB')\n",
    "        images.append(img)  # Append the image to the images list\n",
    "        filenames.append(filename)  # Append the filename to the filenames list\n",
    "    return images, filenames\n",
    "\n",
    "# Load images and filenames (modify the path to your folder)\n",
    "folder_path = r\"C:\\APPU SELVA\\Pongal 2024\"  # Use a raw string to handle backslashes\n",
    "images, filenames = load_images_from_folder(folder_path)\n",
    "\n",
    "# Display the first image to verify\n",
    "if images:\n",
    "    display(images[0])\n",
    "else:\n",
    "    print(\"No images found in the specified folder.\")"
   ]
  },
  {
   "cell_type": "markdown",
   "id": "aada14bf-0f94-4085-9802-00431757157f",
   "metadata": {},
   "source": [
    "# Step 3: Convert Images to Hash Values"
   ]
  },
  {
   "cell_type": "code",
   "execution_count": null,
   "id": "556d2964-1fe1-4757-9f6e-ac33b89f9b10",
   "metadata": {},
   "outputs": [],
   "source": [
    "# Function to convert images to perceptual hash values\n",
    "def image_to_phash(image):\n",
    "    return imagehash.phash(image)\n",
    "\n",
    "# Generate perceptual hashes for each image\n",
    "image_hashes = [image_to_phash(img) for img in images]\n",
    "\n",
    "# Extract file extensions\n",
    "extensions = [os.path.splitext(filename)[1] for filename in filenames]  # Get the extension part of each filename\n",
    "\n",
    "# Create a DataFrame to display results in table format\n",
    "df = pd.DataFrame({\n",
    "    'Filename': filenames,\n",
    "    'Extension': extensions,\n",
    "    'Hash Value': [str(hash_val) for hash_val in image_hashes]  # Convert hashes to strings\n",
    "})\n",
    "\n",
    "# Display the table\n",
    "display(df)\n"
   ]
  },
  {
   "cell_type": "code",
   "execution_count": null,
   "id": "a5b6da4e-b0eb-49e6-9ce9-ebd9cd45f5b0",
   "metadata": {},
   "outputs": [],
   "source": [
    "!pip install tabulate\n"
   ]
  },
  {
   "cell_type": "code",
   "execution_count": null,
   "id": "0874aff9-767f-4240-877f-68d45f0980f3",
   "metadata": {},
   "outputs": [],
   "source": [
    "# Import necessary modules\n",
    "#import os\n",
    "import sqlite3\n",
    "#import imagehash\n",
    "#from PIL import Image\n",
    "import time\n",
    "#import pandas as pd  # Import pandas for table display\n",
    "\n",
    "# Function to load images from a directory and retrieve properties\n",
    "def load_images_from_folder(folder_path):\n",
    "    images = []\n",
    "    filenames = []\n",
    "    extensions = []\n",
    "    locations = []\n",
    "    sizes = []\n",
    "    created_dates = []\n",
    "    \n",
    "    for filename in os.listdir(folder_path):\n",
    "        img_path = os.path.join(folder_path, filename)\n",
    "        \n",
    "        # Open and store the image\n",
    "        img = Image.open(img_path).convert('RGB') #Convert RGB into Binary images\n",
    "        images.append(img)\n",
    "        \n",
    "        # Collect file properties\n",
    "        filenames.append(filename)\n",
    "        extensions.append(os.path.splitext(filename)[1])  # Get the file extension\n",
    "        locations.append(img_path)  # Store full file path\n",
    "        sizes.append(os.path.getsize(img_path))  # Get file size in bytes\n",
    "        created_dates.append(time.ctime(os.path.getctime(img_path)))  # Get file creation date\n",
    "        \n",
    "    return images, filenames, extensions, locations, sizes, created_dates\n",
    "\n",
    "# Function to convert images to perceptual hash values\n",
    "def image_to_phash(image):\n",
    "    return imagehash.phash(image)\n",
    "\n",
    "# Function to create and initialize the database with additional fields\n",
    "def initialize_database(db_name=\"\"):\n",
    "    conn = sqlite3.connect(db_name)\n",
    "    cursor = conn.cursor()\n",
    "    # Create table with additional fields for location, size, and created date\n",
    "    cursor.execute('''\n",
    "        CREATE TABLE IF NOT EXISTS ImageInfo (\n",
    "            id INTEGER PRIMARY KEY AUTOINCREMENT,\n",
    "            filename TEXT NOT NULL,\n",
    "            hash_value TEXT NOT NULL,\n",
    "            extension TEXT NOT NULL,\n",
    "            location TEXT NOT NULL,\n",
    "            size INTEGER NOT NULL,\n",
    "            created TEXT NOT NULL\n",
    "        )\n",
    "    ''')\n",
    "    conn.commit()\n",
    "    return conn\n",
    "\n",
    "# Function to insert image data into the database\n",
    "def insert_image_data(conn, filename, hash_value, extension, location, size, created):\n",
    "    cursor = conn.cursor()\n",
    "    cursor.execute('''\n",
    "        INSERT INTO ImageInfo (filename, hash_value, extension, location, size, created)\n",
    "        VALUES (?, ?, ?, ?, ?, ?)\n",
    "    ''', (filename, hash_value, extension, location, size, created))\n",
    "    conn.commit()\n",
    "\n",
    "# Load images and their details\n",
    "folder_path = r\"C:\\APPU SELVA\\Pongal 2024\"  # Adjust the path as needed\n",
    "images, filenames, extensions, locations, sizes, created_dates = load_images_from_folder(folder_path)\n",
    "\n",
    "# Initialize the database\n",
    "conn = initialize_database()\n",
    "\n",
    "# Process each image, calculate hash, and store in database\n",
    "for img, filename, extension, location, size, created in zip(images, filenames, extensions, locations, sizes, created_dates):\n",
    "    hash_value = str(image_to_phash(img))  # Convert hash to string\n",
    "    insert_image_data(conn, filename, hash_value, extension, location, size, created)\n",
    "\n",
    "# Verify by fetching all entries from the database\n",
    "cursor = conn.cursor()\n",
    "cursor.execute(\"SELECT * FROM ImageInfo\")\n",
    "rows = cursor.fetchall()\n",
    "\n",
    "# Create a pandas DataFrame to display the data in a table format\n",
    "columns = ['ID', 'Filename', 'Hash Value', 'Extension', 'Location', 'Size (bytes)', 'Created']\n",
    "df = pd.DataFrame(rows, columns=columns)\n",
    "\n",
    "# Set display options for a cleaner look in larger tables\n",
    "pd.set_option('display.max_columns', None)  # Display all columns\n",
    "pd.set_option('display.width', 200)         # Increase width for larger tables\n",
    "pd.set_option('display.colheader_justify', 'center')  # Center column headers\n",
    "\n",
    "# Display the DataFrame again\n",
    "print(df)\n",
    "\n",
    "# Close the database connection\n",
    "conn.close()\n"
   ]
  },
  {
   "cell_type": "markdown",
   "id": "df970da9-888c-4a6c-aa73-4c25c33bd38b",
   "metadata": {},
   "source": [
    "# Step 4: Store Hashes in a Database (Dictionary)"
   ]
  },
  {
   "cell_type": "code",
   "execution_count": null,
   "id": "1280df9e-e18b-41b4-bd54-33b7ef08d52a",
   "metadata": {},
   "outputs": [],
   "source": [
    "# Storing hashes in a dictionary with image indices as keys\n",
    "image_database = {i: img_hash for i, img_hash in enumerate(image_hashes)}\n",
    "\n",
    "# Print the hash database\n",
    "print(image_database)\n",
    "\n",
    "#The purpose of this code is to create an easy-to-access mapping of image indices to their corresponding hash values. \n",
    "#This structure can be useful for quickly retrieving the hash of a specific image based on its index, which can facilitate tasks \n",
    "#like checking for duplicates or organizing images.\n"
   ]
  },
  {
   "cell_type": "markdown",
   "id": "4f7e8b67-1a02-4bae-86de-8d88338391c6",
   "metadata": {},
   "source": [
    "# Step 5: Detect Exact Duplicates Using Cryptographic Hashes"
   ]
  },
  {
   "cell_type": "code",
   "execution_count": null,
   "id": "904364e3-bd36-4622-a1c8-607c160ff75f",
   "metadata": {},
   "outputs": [],
   "source": [
    "# Function to generate cryptographic hash of an image\n",
    "def cryptographic_hash(image):\n",
    "    # Convert image to bytes and apply SHA-256\n",
    "    img_bytes = np.array(image).tobytes()\n",
    "    return hashlib.sha256(img_bytes).hexdigest()\n",
    "\n",
    "# Generate SHA-256 hashes\n",
    "crypto_hashes = [cryptographic_hash(img) for img in images]\n",
    "\n",
    "# Print SHA-256 hash values\n",
    "for i, c_hash in enumerate(crypto_hashes):\n",
    "    print(f\"Image {i+1}: Cryptographic Hash = {c_hash}\")\n"
   ]
  },
  {
   "cell_type": "code",
   "execution_count": 1,
   "id": "c8b830a7-97d6-4f84-8b7e-502da36593dd",
   "metadata": {},
   "outputs": [
    {
     "name": "stdout",
     "output_type": "stream",
     "text": [
      "Collecting nbstripout\n",
      "  Downloading nbstripout-0.8.0-py2.py3-none-any.whl.metadata (19 kB)\n",
      "Requirement already satisfied: nbformat in c:\\jupyter anaconder\\lib\\site-packages (from nbstripout) (5.10.4)\n",
      "Requirement already satisfied: fastjsonschema>=2.15 in c:\\jupyter anaconder\\lib\\site-packages (from nbformat->nbstripout) (2.16.2)\n",
      "Requirement already satisfied: jsonschema>=2.6 in c:\\jupyter anaconder\\lib\\site-packages (from nbformat->nbstripout) (4.23.0)\n",
      "Requirement already satisfied: jupyter-core!=5.0.*,>=4.12 in c:\\jupyter anaconder\\lib\\site-packages (from nbformat->nbstripout) (5.7.2)\n",
      "Requirement already satisfied: traitlets>=5.1 in c:\\jupyter anaconder\\lib\\site-packages (from nbformat->nbstripout) (5.14.3)\n",
      "Requirement already satisfied: attrs>=22.2.0 in c:\\jupyter anaconder\\lib\\site-packages (from jsonschema>=2.6->nbformat->nbstripout) (23.1.0)\n",
      "Requirement already satisfied: jsonschema-specifications>=2023.03.6 in c:\\jupyter anaconder\\lib\\site-packages (from jsonschema>=2.6->nbformat->nbstripout) (2023.7.1)\n",
      "Requirement already satisfied: referencing>=0.28.4 in c:\\jupyter anaconder\\lib\\site-packages (from jsonschema>=2.6->nbformat->nbstripout) (0.30.2)\n",
      "Requirement already satisfied: rpds-py>=0.7.1 in c:\\jupyter anaconder\\lib\\site-packages (from jsonschema>=2.6->nbformat->nbstripout) (0.10.6)\n",
      "Requirement already satisfied: platformdirs>=2.5 in c:\\jupyter anaconder\\lib\\site-packages (from jupyter-core!=5.0.*,>=4.12->nbformat->nbstripout) (3.10.0)\n",
      "Requirement already satisfied: pywin32>=300 in c:\\jupyter anaconder\\lib\\site-packages (from jupyter-core!=5.0.*,>=4.12->nbformat->nbstripout) (305.1)\n",
      "Downloading nbstripout-0.8.0-py2.py3-none-any.whl (16 kB)\n",
      "Installing collected packages: nbstripout\n",
      "Successfully installed nbstripout-0.8.0\n",
      "Note: you may need to restart the kernel to use updated packages.\n"
     ]
    }
   ],
   "source": [
    "pip install nbstripout # To reduce the file size\n"
   ]
  },
  {
   "cell_type": "code",
   "execution_count": null,
   "id": "38292733-106e-496c-939e-5884af27a2a1",
   "metadata": {},
   "outputs": [],
   "source": []
  },
  {
   "cell_type": "code",
   "execution_count": null,
   "id": "a88485fc-e350-4f39-9234-f219bfc9fc0f",
   "metadata": {},
   "outputs": [],
   "source": []
  },
  {
   "cell_type": "code",
   "execution_count": null,
   "id": "b03eb3c7-8038-4e7a-922c-15e8faf638c9",
   "metadata": {},
   "outputs": [],
   "source": []
  },
  {
   "cell_type": "markdown",
   "id": "6ba89d5b-5ed3-478c-9666-5c70e0c53735",
   "metadata": {},
   "source": [
    "# Step 6: Detect Near-Duplicates Using Hamming Distance"
   ]
  },
  {
   "cell_type": "code",
   "execution_count": null,
   "id": "6c018ed9-8e94-463f-a972-969145b9c7b2",
   "metadata": {},
   "outputs": [],
   "source": [
    "# Function to calculate Hamming distance between two hashes\n",
    "def hamming_distance(hash1, hash2):\n",
    "    # Retrieve the underlying hash values\n",
    "    hash1_bin = hash1.hash.flatten()  # Get the binary array of the hash\n",
    "    hash2_bin = hash2.hash.flatten()  # Same for the second hash\n",
    "\n",
    "    # Calculate the Hamming distance by counting differing bits\n",
    "    return sum(el1 != el2 for el1, el2 in zip(hash1_bin, hash2_bin))\n",
    "\n",
    "# Identify near-duplicates by comparing Hamming distances\n",
    "threshold = 10  # Define a threshold for similarity\n",
    "near_duplicates = []\n",
    "\n",
    "for i in range(len(image_hashes)):\n",
    "    for j in range(i + 1, len(image_hashes)):\n",
    "        distance = hamming_distance(image_hashes[i], image_hashes[j])\n",
    "        if distance < threshold:\n",
    "            near_duplicates.append((i, j, distance))\n",
    "\n",
    "# Display pairs of similar images\n",
    "print(\"Near-duplicate images:\")\n",
    "for i, j, distance in near_duplicates:\n",
    "    print(f\"Images {i+1} and {j+1} have a Hamming distance of {distance}\")\n"
   ]
  },
  {
   "cell_type": "markdown",
   "id": "6a26632e-e605-421a-97bc-875a05707e94",
   "metadata": {},
   "source": [
    "# Step 7: Cluster Similar Images Using K-Means Clustering"
   ]
  },
  {
   "cell_type": "code",
   "execution_count": null,
   "id": "a885db35-1d9a-49b9-820e-6945eac510d6",
   "metadata": {},
   "outputs": [],
   "source": [
    "# Convert hashes to a numeric format for clustering\n",
    "hash_vectors = np.array([hash.hash.flatten() for hash in image_hashes])\n",
    "\n",
    "# Perform K-Means clustering\n",
    "num_clusters = 3  # Define the number of clusters\n",
    "kmeans = KMeans(n_clusters=num_clusters, random_state=0).fit(hash_vectors)\n",
    "\n",
    "# Assign images to clusters\n",
    "cluster_labels = kmeans.labels_\n",
    "\n",
    "# Display cluster assignments\n",
    "print(\"Cluster assignments:\")\n",
    "for i, label in enumerate(cluster_labels):\n",
    "    print(f\"Image {i+1} is in cluster {label}\")\n"
   ]
  },
  {
   "cell_type": "markdown",
   "id": "1a62b68b-3cd9-4c3c-8147-c3ef94f5370a",
   "metadata": {},
   "source": [
    "# Step 8: Visualize Clusters "
   ]
  },
  {
   "cell_type": "code",
   "execution_count": null,
   "id": "f9d1cab9-0240-4e38-acfe-bc8364d19505",
   "metadata": {},
   "outputs": [],
   "source": [
    "import matplotlib.pyplot as plt\n",
    "\n",
    "# Function to display images in clusters\n",
    "def display_clusters(images, labels):\n",
    "    clusters = {}\n",
    "    for i, label in enumerate(labels):\n",
    "        if label not in clusters:\n",
    "            clusters[label] = []\n",
    "        clusters[label].append(images[i])\n",
    "\n",
    "    for cluster_id, cluster_images in clusters.items():\n",
    "        print(f\"\\nCluster {cluster_id + 1}:\")\n",
    "        for img in cluster_images:\n",
    "            plt.imshow(img)\n",
    "            plt.axis('off')\n",
    "            plt.show()\n",
    "\n",
    "# Display images in clusters\n",
    "display_clusters(images, cluster_labels)\n"
   ]
  },
  {
   "cell_type": "code",
   "execution_count": null,
   "id": "e685cf1b-ecdf-431d-b9ce-0a359c4da8b6",
   "metadata": {},
   "outputs": [],
   "source": []
  },
  {
   "cell_type": "code",
   "execution_count": null,
   "id": "8814172e-0745-4b22-b9d9-4e34296f902a",
   "metadata": {},
   "outputs": [],
   "source": []
  },
  {
   "cell_type": "code",
   "execution_count": null,
   "id": "8efe0d7b-2fc5-4e6d-ae4b-ee3b897cb5f0",
   "metadata": {},
   "outputs": [],
   "source": []
  },
  {
   "cell_type": "code",
   "execution_count": null,
   "id": "82a0ad73-a3d6-4af6-9b96-98ebc41295fd",
   "metadata": {},
   "outputs": [],
   "source": []
  }
 ],
 "metadata": {
  "kernelspec": {
   "display_name": "Python 3 (ipykernel)",
   "language": "python",
   "name": "python3"
  },
  "language_info": {
   "codemirror_mode": {
    "name": "ipython",
    "version": 3
   },
   "file_extension": ".py",
   "mimetype": "text/x-python",
   "name": "python",
   "nbconvert_exporter": "python",
   "pygments_lexer": "ipython3",
   "version": "3.12.7"
  }
 },
 "nbformat": 4,
 "nbformat_minor": 5
}
